{
 "cells": [
  {
   "cell_type": "markdown",
   "metadata": {},
   "source": [
    "# Floods of the Skagit River and the Surrounding Areas"
   ]
  },
  {
   "cell_type": "markdown",
   "metadata": {},
   "source": [
    "#### Data Dictionary for Skagit River Measurements"
   ]
  },
  {
   "cell_type": "markdown",
   "metadata": {},
   "source": [
    "|    |  city  |  datetime  |  timezone  |  discharge  | gauge_lvl |\n",
    "|----|----|----|----|----|----|\n",
    "|**Ex.**|Concrete or Mount Vernon|2007-10-01 01:00|PDT|8350|15.86|\n",
    "|**Desc.**|We used the two cities because the USGS stream flow stations are in the river to measure the heighth and discharge of the Skagit river. While also giving us a time stamp to every measurement taken|Using datetime to translate the time stamp into a format that is easier to use with python coding. It comes to us in incriments of every 15 minutes|Used PDT(Pacific Daylight Time) to stay with the UTC(Coordinated Universal Time)|This number comes to us in discrete values and is the volume of water that passes by a stream flow station. https://en.wikipedia.org/wiki/Discharge_(hydrology) |This number is a continuos value that returns the river heighth and will be used to determine the threat of potential flooding|\n"
   ]
  },
  {
   "cell_type": "markdown",
   "metadata": {},
   "source": [
    "#### Data Dictionary for Skagit County Road Closures and Hazards"
   ]
  },
  {
   "cell_type": "markdown",
   "metadata": {},
   "source": [
    "||road_name|condition|from|to|closed_date/open_date|closed_time/open_time|last_updated|\n",
    "|----|----|----|----|----|----|----|----|\n",
    "|**Ex.**|Grassmere Road|Roadside Sloughing|Section Ave|South Green Street|2/6/2020|Until Furt & 12:54 PM|4/3/2020|TBD & 5:00 PM|5/7/2015 7:53AM|\n",
    "|**Desc.**|The street name of the road affected by either a closure or hazard|Gives a description of the type of hazard that has either closed the road or presented an obsticle for driver to be aware of|The starting point of the affected section of the road|The ending point of the affected section of the road|The date in which the road closed or if it has closed and also the date in which the road has opened and will be open|The time presented in two forms. First in a standard 12 hour format with am and pm. The other being Until Furt(Until Further Notice). With the closed or potentially opening time for the given road|When the information was last updated or when they last had progress worth reporting|\n"
   ]
  },
  {
   "cell_type": "markdown",
   "metadata": {},
   "source": [
    "#### Data Dictionary for Models "
   ]
  },
  {
   "cell_type": "markdown",
   "metadata": {},
   "source": [
    "||model|code|\n",
    "|----|----|----|\n",
    "|**Ex.**|||\n",
    "|**Desc.**|||"
   ]
  },
  {
   "cell_type": "code",
   "execution_count": null,
   "metadata": {},
   "outputs": [],
   "source": []
  }
 ],
 "metadata": {
  "kernelspec": {
   "display_name": "Python 3",
   "language": "python",
   "name": "python3"
  },
  "language_info": {
   "codemirror_mode": {
    "name": "ipython",
    "version": 3
   },
   "file_extension": ".py",
   "mimetype": "text/x-python",
   "name": "python",
   "nbconvert_exporter": "python",
   "pygments_lexer": "ipython3",
   "version": "3.7.3"
  }
 },
 "nbformat": 4,
 "nbformat_minor": 2
}
